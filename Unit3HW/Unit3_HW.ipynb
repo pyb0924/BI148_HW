{
 "cells": [
  {
   "cell_type": "markdown",
   "metadata": {},
   "source": [
    "# HW-U3"
   ]
  },
  {
   "cell_type": "code",
   "execution_count": 1,
   "metadata": {},
   "outputs": [],
   "source": [
    "import numpy as np\n",
    "import pandas as pd\n",
    "import scipy.stats as stats\n",
    "import statistics as sta\n",
    "import seaborn as sns\n",
    "import matplotlib.pyplot as plt\n",
    "import math\n",
    "import pingouin as pg\n",
    "import statsmodels.stats.anova as anova\n",
    "import statsmodels.api as sm\n",
    "from statsmodels.formula.api import ols\n",
    "import statsmodels.stats.multicomp\n",
    "from IPython.core.interactiveshell import InteractiveShell\n",
    "InteractiveShell.ast_node_interactivity = 'all'\n",
    "sns.set_style(\"darkgrid\")"
   ]
  },
  {
   "cell_type": "markdown",
   "metadata": {},
   "source": [
    "## HW-U3-1 ：CI and NHST: \n",
    "对于随机样本x1, x2 , x3 （用如下python代码产生）\n",
    "```python\n",
    "n1=25\n",
    "np.random.seed(100)\n",
    "x1=stats.norm.rvs(3,3,n1)+stats.uniform.rvs(-1,1,n1)\n",
    "x2=stats.f.rvs(2,30,0,1,n1)**2+stats.uniform.rvs(-1,1,n1)\n",
    "x3=stats.uniform.rvs(-1,1,n1)**2+x1\n",
    "```"
   ]
  },
  {
   "cell_type": "code",
   "execution_count": 2,
   "metadata": {},
   "outputs": [],
   "source": [
    "n1=25\n",
    "np.random.seed(100)\n",
    "x1=stats.norm.rvs(3,3,n1)+stats.uniform.rvs(-1,1,n1)\n",
    "x2=stats.f.rvs(2,30,0,1,n1)**2+stats.uniform.rvs(-1,1,n1)\n",
    "x3=stats.uniform.rvs(-1,1,n1)**2+x1"
   ]
  },
  {
   "cell_type": "markdown",
   "metadata": {},
   "source": [
    "#### （1）请检验x1,x2,x3的正态性；然后根据正态性，完成下面两个计算："
   ]
  },
  {
   "cell_type": "code",
   "execution_count": 3,
   "metadata": {},
   "outputs": [
    {
     "name": "stdout",
     "output_type": "stream",
     "text": [
      "-0.7593896261044124 -0.08719026216018647\n",
      "3.633915083065232 2.206928065140578\n",
      "-0.8634789564853813 -0.19772153292015818\n"
     ]
    }
   ],
   "source": [
    "print(stats.kurtosis(x1),stats.skew(x1))\n",
    "print(stats.kurtosis(x2),stats.skew(x2))\n",
    "print(stats.kurtosis(x3),stats.skew(x3))"
   ]
  },
  {
   "cell_type": "markdown",
   "metadata": {},
   "source": [
    "可以看出，x1和x3的正态性较好，x2的正态性较差"
   ]
  },
  {
   "cell_type": "markdown",
   "metadata": {},
   "source": [
    "#### （2）计算x1,x2,x3对应总体均值的99% CI"
   ]
  },
  {
   "cell_type": "code",
   "execution_count": 4,
   "metadata": {},
   "outputs": [],
   "source": [
    "def t_ci(data,alpha):\n",
    "    mean,std,length=np.mean(data),np.std(data,ddof=1),len(data)\n",
    "    ci_len=stats.t.isf(alpha,length-1)*std/np.sqrt(length)\n",
    "    return (mean-ci_len,mean+ci_len)\n",
    "\n",
    "def bootstrap_ci(data,alpha,n_boots=200):\n",
    "    means = []\n",
    "    for i in range(n_boots):\n",
    "        random_sample=np.random.choice(data,len(data),replace=True)\n",
    "        means.append(np.array(random_sample).mean())\n",
    "    # Compute the percentiles of choice for the bootstrapped means\n",
    "    ci_l,ci_h = np.percentile(means, [alpha*100,(1-alpha)*100])\n",
    "    return ci_l,ci_h"
   ]
  },
  {
   "cell_type": "code",
   "execution_count": 5,
   "metadata": {},
   "outputs": [
    {
     "data": {
      "text/plain": [
       "(1.293685723789949, 4.1922367478347855)"
      ]
     },
     "execution_count": 5,
     "metadata": {},
     "output_type": "execute_result"
    },
    {
     "data": {
      "text/plain": [
       "(0.40974113071592927, 6.773569286898744)"
      ]
     },
     "execution_count": 5,
     "metadata": {},
     "output_type": "execute_result"
    },
    {
     "data": {
      "text/plain": [
       "(1.5525518558575795, 4.4572687891730665)"
      ]
     },
     "execution_count": 5,
     "metadata": {},
     "output_type": "execute_result"
    }
   ],
   "source": [
    "t_ci(x1,0.005)\n",
    "bootstrap_ci(x2,0.005)\n",
    "t_ci(x3,0.005)"
   ]
  },
  {
   "cell_type": "markdown",
   "metadata": {},
   "source": [
    "#### （3）计算x3，x1总体均值差值的95% CI"
   ]
  },
  {
   "cell_type": "code",
   "execution_count": 6,
   "metadata": {},
   "outputs": [
    {
     "data": {
      "text/plain": [
       "(0.14955544577583174, 0.3743427276300801)"
      ]
     },
     "execution_count": 6,
     "metadata": {},
     "output_type": "execute_result"
    }
   ],
   "source": [
    "data=x3-x1\n",
    "t_ci(data,0.025)"
   ]
  },
  {
   "cell_type": "markdown",
   "metadata": {},
   "source": [
    "#### （4）利用置信区间和NHST两种方法推断x1来自的总体均值是否大于2.0"
   ]
  },
  {
   "cell_type": "markdown",
   "metadata": {},
   "source": [
    "置信区间法：由（2）知，x1的总体均值最有可能在（1.29,4.19）之间，因此总体均值有可能大于2.0.\n",
    "\n",
    "NHST：设$H_0:\\bar{x_1}\\le2.0,\\quad H_1:\\bar{x_1}>2.0.$"
   ]
  },
  {
   "cell_type": "code",
   "execution_count": 7,
   "metadata": {},
   "outputs": [
    {
     "data": {
      "text/plain": [
       "0.16452133248027612"
      ]
     },
     "execution_count": 7,
     "metadata": {},
     "output_type": "execute_result"
    },
    {
     "data": {
      "text/plain": [
       "(1.433832017252969, 2.796939504772805)"
      ]
     },
     "execution_count": 7,
     "metadata": {},
     "output_type": "execute_result"
    }
   ],
   "source": [
    "length=len(x1)\n",
    "per=stats.t.isf(0.005,length-1)\n",
    "t,p=stats.ttest_1samp(x1,2)\n",
    "p\n",
    "t,per"
   ]
  },
  {
   "cell_type": "markdown",
   "metadata": {},
   "source": [
    "由于t<per，因此接受$H_0$，即总体均值不大于2.0"
   ]
  },
  {
   "cell_type": "markdown",
   "metadata": {},
   "source": [
    "#### （5）利用置信区间和NHST两种方法推断x1,x3来自的总体均值是否相等；并计算effect size (Cohen's d)"
   ]
  },
  {
   "cell_type": "code",
   "execution_count": 8,
   "metadata": {},
   "outputs": [
    {
     "data": {
      "text/plain": [
       "(0.10963626462978451, 0.41426190877612734)"
      ]
     },
     "execution_count": 8,
     "metadata": {},
     "output_type": "execute_result"
    },
    {
     "data": {
      "text/plain": [
       "(-31.916047477418633, 3.605187302482976e-21)"
      ]
     },
     "execution_count": 8,
     "metadata": {},
     "output_type": "execute_result"
    },
    {
     "data": {
      "text/plain": [
       "0.9620408037436069"
      ]
     },
     "execution_count": 8,
     "metadata": {},
     "output_type": "execute_result"
    }
   ],
   "source": [
    "t_ci(x3-x1,0.005)\n",
    "t,p=stats.ttest_1samp(x3-x1,2)\n",
    "t,p\n",
    "cohen_d=np.mean(x3-x1)/np.std(x3-x1,ddof=1)\n",
    "cohen_d"
   ]
  },
  {
   "cell_type": "markdown",
   "metadata": {},
   "source": [
    "$\\mu_3-\\mu_1$的置信区间为(0.11,0.41)，因此推断两者总体均值不相等。\n",
    "\n",
    "根据NHST结果，$p=3.61\\times10^{-21}$，因此也可以推断出总体均值不相等。\n",
    "\n",
    "effect size(Cohen's d)=0.96>0.8，说明两者有比较明显的差异。"
   ]
  },
  {
   "cell_type": "markdown",
   "metadata": {},
   "source": [
    "## HW-U3-2 ：ANOVA   睡眠治疗实验"
   ]
  },
  {
   "cell_type": "markdown",
   "metadata": {},
   "source": [
    "#### （1）表单SleepExp_1.csv 是招募60名被试，随机分成三种不同剂量组（10mg, 50mg, 100mg)进行试验 ，表单Scores是治疗后被试的评分，请推断不同剂量组间是否有治疗效果差异？"
   ]
  },
  {
   "cell_type": "code",
   "execution_count": 9,
   "metadata": {},
   "outputs": [
    {
     "data": {
      "text/plain": [
       "(10.480888179350163, 0.00013298547134746072)"
      ]
     },
     "execution_count": 9,
     "metadata": {},
     "output_type": "execute_result"
    },
    {
     "data": {
      "text/html": [
       "<div>\n",
       "<style scoped>\n",
       "    .dataframe tbody tr th:only-of-type {\n",
       "        vertical-align: middle;\n",
       "    }\n",
       "\n",
       "    .dataframe tbody tr th {\n",
       "        vertical-align: top;\n",
       "    }\n",
       "\n",
       "    .dataframe thead th {\n",
       "        text-align: right;\n",
       "    }\n",
       "</style>\n",
       "<table border=\"1\" class=\"dataframe\">\n",
       "  <thead>\n",
       "    <tr style=\"text-align: right;\">\n",
       "      <th></th>\n",
       "      <th>Source</th>\n",
       "      <th>ddof1</th>\n",
       "      <th>ddof2</th>\n",
       "      <th>F</th>\n",
       "      <th>p-unc</th>\n",
       "      <th>np2</th>\n",
       "    </tr>\n",
       "  </thead>\n",
       "  <tbody>\n",
       "    <tr>\n",
       "      <th>0</th>\n",
       "      <td>Dosage</td>\n",
       "      <td>2</td>\n",
       "      <td>57</td>\n",
       "      <td>10.481</td>\n",
       "      <td>0.000133</td>\n",
       "      <td>0.269</td>\n",
       "    </tr>\n",
       "  </tbody>\n",
       "</table>\n",
       "</div>"
      ],
      "text/plain": [
       "   Source  ddof1  ddof2       F     p-unc    np2\n",
       "0  Dosage      2     57  10.481  0.000133  0.269"
      ]
     },
     "execution_count": 9,
     "metadata": {},
     "output_type": "execute_result"
    }
   ],
   "source": [
    "df=pd.read_csv('SleepExp_1.csv')\n",
    "\n",
    "amount=['10mg','50mg','100mg']\n",
    "data=[]\n",
    "# scipy.stats\n",
    "for i in range(3):\n",
    "    data.append(df[df['Dosage']==amount[i]]['Scores'])\n",
    "f,p=stats.f_oneway(data[0],data[1],data[2])\n",
    "f,p\n",
    "# pg\n",
    "df.anova(dv='Scores',between='Dosage')"
   ]
  },
  {
   "cell_type": "markdown",
   "metadata": {},
   "source": [
    "p=0.000133<0.05，说明不同剂量组间存在显著治疗效果差异。"
   ]
  },
  {
   "cell_type": "markdown",
   "metadata": {},
   "source": [
    "#### （2）表单SleepExp_2.csv是招募20名被试，每个被试连续进行了三种剂量治疗的（10mg, 50mg, 100mg)实验 ，表单Scores是每个剂量治疗后被试的评分，请推断不同剂量组间是否有治疗效果差异？"
   ]
  },
  {
   "cell_type": "code",
   "execution_count": 10,
   "metadata": {},
   "outputs": [
    {
     "name": "stdout",
     "output_type": "stream",
     "text": [
      "               Anova\n",
      "====================================\n",
      "       F Value Num DF  Den DF Pr > F\n",
      "------------------------------------\n",
      "Dosage  2.4209 2.0000 38.0000 0.1024\n",
      "====================================\n",
      "\n"
     ]
    }
   ],
   "source": [
    "df=pd.read_csv('SleepExp_2.csv')\n",
    "res=anova.AnovaRM(df,'Scores','Subjects',within=['Dosage']).fit()\n",
    "print(res)"
   ]
  },
  {
   "cell_type": "markdown",
   "metadata": {},
   "source": [
    "Pr=0.1024>0.05 故推断不同剂量组间没有明显的治疗效果差异。"
   ]
  },
  {
   "cell_type": "markdown",
   "metadata": {},
   "source": [
    "#### （3）表单SleepExp_3.csv是招募了30名被试，每个被试连续进行了三种剂量治疗的（10mg, 50mg, 100mg)实验 ，表单Scores是每个剂量治疗后被试的评分，请推断剂量、性别、及剂量与性别相互作用的效应分别对治疗评分的影响是否显著？"
   ]
  },
  {
   "cell_type": "code",
   "execution_count": 11,
   "metadata": {},
   "outputs": [
    {
     "data": {
      "text/plain": [
       "Female    57\n",
       "Male      33\n",
       "Name: Gender, dtype: int64"
      ]
     },
     "execution_count": 11,
     "metadata": {},
     "output_type": "execute_result"
    },
    {
     "data": {
      "text/html": [
       "<div>\n",
       "<style scoped>\n",
       "    .dataframe tbody tr th:only-of-type {\n",
       "        vertical-align: middle;\n",
       "    }\n",
       "\n",
       "    .dataframe tbody tr th {\n",
       "        vertical-align: top;\n",
       "    }\n",
       "\n",
       "    .dataframe thead th {\n",
       "        text-align: right;\n",
       "    }\n",
       "</style>\n",
       "<table border=\"1\" class=\"dataframe\">\n",
       "  <thead>\n",
       "    <tr style=\"text-align: right;\">\n",
       "      <th></th>\n",
       "      <th>Source</th>\n",
       "      <th>SS</th>\n",
       "      <th>DF1</th>\n",
       "      <th>DF2</th>\n",
       "      <th>MS</th>\n",
       "      <th>F</th>\n",
       "      <th>p-unc</th>\n",
       "      <th>np2</th>\n",
       "      <th>eps</th>\n",
       "    </tr>\n",
       "  </thead>\n",
       "  <tbody>\n",
       "    <tr>\n",
       "      <th>0</th>\n",
       "      <td>Gender</td>\n",
       "      <td>84.627</td>\n",
       "      <td>1</td>\n",
       "      <td>28</td>\n",
       "      <td>84.627</td>\n",
       "      <td>2.178</td>\n",
       "      <td>1.511432e-01</td>\n",
       "      <td>0.072</td>\n",
       "      <td>-</td>\n",
       "    </tr>\n",
       "    <tr>\n",
       "      <th>1</th>\n",
       "      <td>Dosage</td>\n",
       "      <td>931.005</td>\n",
       "      <td>2</td>\n",
       "      <td>56</td>\n",
       "      <td>465.502</td>\n",
       "      <td>19.115</td>\n",
       "      <td>4.699411e-07</td>\n",
       "      <td>0.406</td>\n",
       "      <td>0.957</td>\n",
       "    </tr>\n",
       "    <tr>\n",
       "      <th>2</th>\n",
       "      <td>Interaction</td>\n",
       "      <td>47.620</td>\n",
       "      <td>2</td>\n",
       "      <td>56</td>\n",
       "      <td>23.810</td>\n",
       "      <td>0.978</td>\n",
       "      <td>3.825007e-01</td>\n",
       "      <td>0.034</td>\n",
       "      <td>-</td>\n",
       "    </tr>\n",
       "  </tbody>\n",
       "</table>\n",
       "</div>"
      ],
      "text/plain": [
       "        Source       SS  DF1  DF2       MS       F         p-unc    np2    eps\n",
       "0       Gender   84.627    1   28   84.627   2.178  1.511432e-01  0.072      -\n",
       "1       Dosage  931.005    2   56  465.502  19.115  4.699411e-07  0.406  0.957\n",
       "2  Interaction   47.620    2   56   23.810   0.978  3.825007e-01  0.034      -"
      ]
     },
     "execution_count": 11,
     "metadata": {},
     "output_type": "execute_result"
    }
   ],
   "source": [
    "df=pd.read_csv('SleepExp_3.csv')\n",
    "df['Gender'].value_counts()\n",
    "pg.mixed_anova(df,'Scores',within='Dosage',subject='Subjects',between='Gender')"
   ]
  },
  {
   "cell_type": "markdown",
   "metadata": {},
   "source": [
    "#### （4）表单SleepExp_4.csv是招募了15名被试，每个被试分别在春季，秋季都连续进行了三种剂量治疗的（10mg, 50mg, 100mg)实验 ，表单Scores是每个剂量治疗后被试的评分，请推断剂量、季节、及剂量与季节相互作用的效应分别对治疗评分的影响是否显著？"
   ]
  },
  {
   "cell_type": "code",
   "execution_count": 12,
   "metadata": {},
   "outputs": [
    {
     "name": "stdout",
     "output_type": "stream",
     "text": [
      "                   Anova\n",
      "===========================================\n",
      "              F Value Num DF  Den DF Pr > F\n",
      "-------------------------------------------\n",
      "Dosage        36.5660 2.0000 28.0000 0.0000\n",
      "Season         6.7376 1.0000 14.0000 0.0212\n",
      "Dosage:Season  0.8290 2.0000 28.0000 0.4469\n",
      "===========================================\n",
      "\n"
     ]
    },
    {
     "data": {
      "text/html": [
       "<div>\n",
       "<style scoped>\n",
       "    .dataframe tbody tr th:only-of-type {\n",
       "        vertical-align: middle;\n",
       "    }\n",
       "\n",
       "    .dataframe tbody tr th {\n",
       "        vertical-align: top;\n",
       "    }\n",
       "\n",
       "    .dataframe thead th {\n",
       "        text-align: right;\n",
       "    }\n",
       "</style>\n",
       "<table border=\"1\" class=\"dataframe\">\n",
       "  <thead>\n",
       "    <tr style=\"text-align: right;\">\n",
       "      <th></th>\n",
       "      <th>Source</th>\n",
       "      <th>SS</th>\n",
       "      <th>ddof1</th>\n",
       "      <th>ddof2</th>\n",
       "      <th>MS</th>\n",
       "      <th>F</th>\n",
       "      <th>p-unc</th>\n",
       "      <th>p-GG-corr</th>\n",
       "      <th>np2</th>\n",
       "      <th>eps</th>\n",
       "    </tr>\n",
       "  </thead>\n",
       "  <tbody>\n",
       "    <tr>\n",
       "      <th>0</th>\n",
       "      <td>Dosage</td>\n",
       "      <td>2400.691</td>\n",
       "      <td>2</td>\n",
       "      <td>28</td>\n",
       "      <td>1200.346</td>\n",
       "      <td>36.566</td>\n",
       "      <td>1.555154e-08</td>\n",
       "      <td>3.795746e-07</td>\n",
       "      <td>0.723</td>\n",
       "      <td>0.788</td>\n",
       "    </tr>\n",
       "    <tr>\n",
       "      <th>1</th>\n",
       "      <td>Season</td>\n",
       "      <td>368.954</td>\n",
       "      <td>1</td>\n",
       "      <td>14</td>\n",
       "      <td>368.954</td>\n",
       "      <td>6.738</td>\n",
       "      <td>2.115423e-02</td>\n",
       "      <td>2.115423e-02</td>\n",
       "      <td>0.325</td>\n",
       "      <td>1.000</td>\n",
       "    </tr>\n",
       "    <tr>\n",
       "      <th>2</th>\n",
       "      <td>Dosage * Season</td>\n",
       "      <td>78.718</td>\n",
       "      <td>2</td>\n",
       "      <td>28</td>\n",
       "      <td>39.359</td>\n",
       "      <td>0.829</td>\n",
       "      <td>4.468987e-01</td>\n",
       "      <td>4.273312e-01</td>\n",
       "      <td>0.056</td>\n",
       "      <td>0.818</td>\n",
       "    </tr>\n",
       "  </tbody>\n",
       "</table>\n",
       "</div>"
      ],
      "text/plain": [
       "            Source        SS  ddof1  ddof2        MS       F         p-unc  \\\n",
       "0           Dosage  2400.691      2     28  1200.346  36.566  1.555154e-08   \n",
       "1           Season   368.954      1     14   368.954   6.738  2.115423e-02   \n",
       "2  Dosage * Season    78.718      2     28    39.359   0.829  4.468987e-01   \n",
       "\n",
       "      p-GG-corr    np2    eps  \n",
       "0  3.795746e-07  0.723  0.788  \n",
       "1  2.115423e-02  0.325  1.000  \n",
       "2  4.273312e-01  0.056  0.818  "
      ]
     },
     "execution_count": 12,
     "metadata": {},
     "output_type": "execute_result"
    }
   ],
   "source": [
    "df=pd.read_csv('SleepExp_4.csv')\n",
    "res=anova.AnovaRM(df,'Scores','Subjects',within=['Dosage','Season']).fit()\n",
    "print(res)\n",
    "pg.rm_anova(df,'Scores',within=['Dosage','Season'],subject='Subjects')"
   ]
  },
  {
   "cell_type": "markdown",
   "metadata": {},
   "source": [
    "由于0.0000,0.0212<0.05，而0.4469>0.05，因此认为剂量和季节对治疗评分影响显著而两者相互作用的效应并不显著。"
   ]
  },
  {
   "cell_type": "markdown",
   "metadata": {},
   "source": [
    "#### （5）表单SleepExp_5.csv从上海、北京招募了90名被试，随机分成三种剂量治疗组（10mg, 50mg, 100mg) 进行睡眠实验，表单Scores是每个被试治疗后的评分，请推断剂量、城市、及剂量与城市相互作用的效应分别对治疗评分的影响是否显著？"
   ]
  },
  {
   "cell_type": "code",
   "execution_count": 13,
   "metadata": {},
   "outputs": [
    {
     "data": {
      "text/html": [
       "<div>\n",
       "<style scoped>\n",
       "    .dataframe tbody tr th:only-of-type {\n",
       "        vertical-align: middle;\n",
       "    }\n",
       "\n",
       "    .dataframe tbody tr th {\n",
       "        vertical-align: top;\n",
       "    }\n",
       "\n",
       "    .dataframe thead th {\n",
       "        text-align: right;\n",
       "    }\n",
       "</style>\n",
       "<table border=\"1\" class=\"dataframe\">\n",
       "  <thead>\n",
       "    <tr style=\"text-align: right;\">\n",
       "      <th></th>\n",
       "      <th>Source</th>\n",
       "      <th>SS</th>\n",
       "      <th>DF</th>\n",
       "      <th>MS</th>\n",
       "      <th>F</th>\n",
       "      <th>p-unc</th>\n",
       "      <th>np2</th>\n",
       "    </tr>\n",
       "  </thead>\n",
       "  <tbody>\n",
       "    <tr>\n",
       "      <th>0</th>\n",
       "      <td>Dosage</td>\n",
       "      <td>3820.314</td>\n",
       "      <td>2</td>\n",
       "      <td>1910.157</td>\n",
       "      <td>90.684590</td>\n",
       "      <td>1.042341e-21</td>\n",
       "      <td>0.683460</td>\n",
       "    </tr>\n",
       "    <tr>\n",
       "      <th>1</th>\n",
       "      <td>City</td>\n",
       "      <td>16.548</td>\n",
       "      <td>1</td>\n",
       "      <td>16.548</td>\n",
       "      <td>0.785615</td>\n",
       "      <td>3.779598e-01</td>\n",
       "      <td>0.009266</td>\n",
       "    </tr>\n",
       "    <tr>\n",
       "      <th>2</th>\n",
       "      <td>Dosage * City</td>\n",
       "      <td>292.849</td>\n",
       "      <td>2</td>\n",
       "      <td>146.425</td>\n",
       "      <td>6.951497</td>\n",
       "      <td>1.608049e-03</td>\n",
       "      <td>0.142008</td>\n",
       "    </tr>\n",
       "    <tr>\n",
       "      <th>3</th>\n",
       "      <td>Residual</td>\n",
       "      <td>1769.355</td>\n",
       "      <td>84</td>\n",
       "      <td>21.064</td>\n",
       "      <td>NaN</td>\n",
       "      <td>NaN</td>\n",
       "      <td>NaN</td>\n",
       "    </tr>\n",
       "  </tbody>\n",
       "</table>\n",
       "</div>"
      ],
      "text/plain": [
       "          Source        SS  DF        MS          F         p-unc       np2\n",
       "0         Dosage  3820.314   2  1910.157  90.684590  1.042341e-21  0.683460\n",
       "1           City    16.548   1    16.548   0.785615  3.779598e-01  0.009266\n",
       "2  Dosage * City   292.849   2   146.425   6.951497  1.608049e-03  0.142008\n",
       "3       Residual  1769.355  84    21.064        NaN           NaN       NaN"
      ]
     },
     "execution_count": 13,
     "metadata": {},
     "output_type": "execute_result"
    },
    {
     "name": "stdout",
     "output_type": "stream",
     "text": [
      "                  sum_sq    df          F        PR(>F)\n",
      "Dosage       3820.313727   2.0  90.684583  1.042343e-21\n",
      "City           16.547897   1.0   0.785610  3.779613e-01\n",
      "Dosage:City   292.849482   2.0   6.951506  1.608036e-03\n",
      "Residual     1769.354510  84.0        NaN           NaN\n"
     ]
    }
   ],
   "source": [
    "df=pd.read_csv('SleepExp_5.csv')\n",
    "# pg\n",
    "df.anova(dv='Scores', between=['Dosage','City'])\n",
    "# statsmodels\n",
    "model = ols('Scores ~ Dosage*City', df).fit()\n",
    "anova_table = sm.stats.anova_lm(model, typ=2)\n",
    "print(anova_table)"
   ]
  },
  {
   "cell_type": "markdown",
   "metadata": {},
   "source": [
    "由p值可知，剂量对治疗评分影响显著，城市对治疗评分的影响不显著，但剂量和城市相互作用对治疗评分的影响比较显著。"
   ]
  }
 ],
 "metadata": {
  "file_extension": ".py",
  "kernelspec": {
   "display_name": "'Python Interactive'",
   "language": "python",
   "name": "0198041c-a641-49c5-bd18-b8fbf787fd64"
  },
  "language_info": {
   "codemirror_mode": {
    "name": "ipython",
    "version": 3
   },
   "file_extension": ".py",
   "mimetype": "text/x-python",
   "name": "python",
   "nbconvert_exporter": "python",
   "pygments_lexer": "ipython3",
   "version": "3.7.4"
  },
  "mimetype": "text/x-python",
  "name": "python",
  "npconvert_exporter": "python",
  "pygments_lexer": "ipython3",
  "version": 3
 },
 "nbformat": 4,
 "nbformat_minor": 4
}
