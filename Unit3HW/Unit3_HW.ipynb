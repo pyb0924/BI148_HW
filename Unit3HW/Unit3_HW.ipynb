{
 "cells": [
  {
   "cell_type": "markdown",
   "metadata": {},
   "source": [
    "# HW-U3"
   ]
  },
  {
   "cell_type": "code",
   "execution_count": 2,
   "metadata": {},
   "outputs": [],
   "source": [
    "import numpy as np\n",
    "import pandas as pd\n",
    "import scipy.stats as stats\n",
    "import statistics as sta\n",
    "import seaborn as sns\n",
    "import matplotlib.pyplot as plt\n",
    "import math\n",
    "from IPython.core.interactiveshell import InteractiveShell\n",
    "InteractiveShell.ast_node_interactivity = 'all'\n",
    "sns.set_style(\"darkgrid\")"
   ]
  },
  {
   "cell_type": "markdown",
   "metadata": {},
   "source": [
    "## HW-U3-1 ：CI and NHST: \n",
    "对于随机样本x1, x2 , x3 （用如下python代码产生）\n",
    "```python\n",
    "n1=25\n",
    "np.random.seed(100)\n",
    "x1=stats.norm.rvs(3,3,n1)+stats.uniform.rvs(-1,1,n1)\n",
    "x2=stats.f.rvs(2,30,0,1,n1)**2+stats.uniform.rvs(-1,1,n1)\n",
    "x3=stats.uniform.rvs(-1,1,n1)**2+x1\n",
    "```"
   ]
  },
  {
   "cell_type": "code",
   "execution_count": 3,
   "metadata": {},
   "outputs": [],
   "source": [
    "n1=25\n",
    "np.random.seed(100)\n",
    "x1=stats.norm.rvs(3,3,n1)+stats.uniform.rvs(-1,1,n1)\n",
    "x2=stats.f.rvs(2,30,0,1,n1)**2+stats.uniform.rvs(-1,1,n1)\n",
    "x3=stats.uniform.rvs(-1,1,n1)**2+x1"
   ]
  },
  {
   "cell_type": "markdown",
   "metadata": {},
   "source": [
    "#### （1）请检验x1,x2,x3的正态性；然后根据正态性，完成下面两个计算："
   ]
  },
  {
   "cell_type": "code",
   "execution_count": 7,
   "metadata": {},
   "outputs": [
    {
     "name": "stdout",
     "output_type": "stream",
     "text": [
      "-0.7593896261044124 -0.08719026216018647\n",
      "3.633915083065232 2.206928065140578\n",
      "-0.8634789564853813 -0.19772153292015818\n"
     ]
    }
   ],
   "source": [
    "print(stats.kurtosis(x1),stats.skew(x1))\n",
    "print(stats.kurtosis(x2),stats.skew(x2))\n",
    "print(stats.kurtosis(x3),stats.skew(x3))"
   ]
  },
  {
   "cell_type": "markdown",
   "metadata": {},
   "source": [
    "可以看出，x1和x3的正态性较好，x2的正态性较差"
   ]
  },
  {
   "cell_type": "markdown",
   "metadata": {},
   "source": [
    "#### （2）计算x1,x2,x3对应总体均值的99% CI"
   ]
  },
  {
   "cell_type": "code",
   "execution_count": 31,
   "metadata": {},
   "outputs": [],
   "source": [
    "def t_ci(data,alpha):\n",
    "    mean,std,length=np.mean(data),np.std(data,ddof=1),len(data)\n",
    "    ci_len=stats.t.isf(alpha,length-1)*std/np.sqrt(length)\n",
    "    return (mean-ci_len,mean+ci_len)\n",
    "\n",
    "def bootstrap_ci(data,alpha,n_boots=200):\n",
    "    means = []\n",
    "    for i in range(n_boots):\n",
    "        random_sample=np.random.choice(data,len(data),replace=True)\n",
    "        means.append(np.array(random_sample).mean())\n",
    "    # Compute the percentiles of choice for the bootstrapped means\n",
    "    ci_l,ci_h = np.percentile(means, [alpha*100,(1-alpha)*100])\n",
    "    return ci_l,ci_h"
   ]
  },
  {
   "cell_type": "code",
   "execution_count": 32,
   "metadata": {},
   "outputs": [
    {
     "data": {
      "text/plain": [
       "(1.293685723789949, 4.1922367478347855)"
      ]
     },
     "execution_count": 32,
     "metadata": {},
     "output_type": "execute_result"
    },
    {
     "data": {
      "text/plain": [
       "(0.3953724392215487, 7.302529690430826)"
      ]
     },
     "execution_count": 32,
     "metadata": {},
     "output_type": "execute_result"
    },
    {
     "data": {
      "text/plain": [
       "(1.5525518558575795, 4.4572687891730665)"
      ]
     },
     "execution_count": 32,
     "metadata": {},
     "output_type": "execute_result"
    }
   ],
   "source": [
    "t_ci(x1,0.005)\n",
    "bootstrap_ci(x2,0.005)\n",
    "t_ci(x3,0.005)"
   ]
  },
  {
   "cell_type": "markdown",
   "metadata": {},
   "source": [
    "#### （3）计算x3，x1总体均值差值的95% CI"
   ]
  },
  {
   "cell_type": "code",
   "execution_count": 36,
   "metadata": {},
   "outputs": [
    {
     "data": {
      "text/plain": [
       "(0.14955544577583174, 0.3743427276300801)"
      ]
     },
     "execution_count": 36,
     "metadata": {},
     "output_type": "execute_result"
    }
   ],
   "source": [
    "data=x3-x1\n",
    "t_ci(data,0.025)"
   ]
  },
  {
   "cell_type": "markdown",
   "metadata": {},
   "source": [
    "#### （4）利用置信区间和NHST两种方法推断x1来自的总体均值是否大于2.0"
   ]
  },
  {
   "cell_type": "markdown",
   "metadata": {},
   "source": [
    "置信区间法：由（2）知，x1的总体均值最有可能在（1.29,4.19）之间，因此总体均值有可能大于2.0.\n",
    "\n",
    "NHST：设$H_0:\\bar{x_1}\\le2.0,\\quad H_1:\\bar{x_1}>2.0.$"
   ]
  },
  {
   "cell_type": "code",
   "execution_count": 53,
   "metadata": {},
   "outputs": [
    {
     "data": {
      "text/plain": [
       "0.16452133248027612"
      ]
     },
     "execution_count": 53,
     "metadata": {},
     "output_type": "execute_result"
    },
    {
     "data": {
      "text/plain": [
       "(1.433832017252969, 2.796939504772805)"
      ]
     },
     "execution_count": 53,
     "metadata": {},
     "output_type": "execute_result"
    }
   ],
   "source": [
    "length=len(x1)\n",
    "per=stats.t.isf(0.005,length-1)\n",
    "t,p=stats.ttest_1samp(x1,2)\n",
    "p\n",
    "t,per"
   ]
  },
  {
   "cell_type": "markdown",
   "metadata": {},
   "source": [
    "由于t<per，因此接受$H_0$，即总体均值不大于2.0"
   ]
  },
  {
   "cell_type": "markdown",
   "metadata": {},
   "source": [
    "#### （5）利用置信区间和NHST两种方法推断x1,x3来自的总体均值是否相等；并计算effect size (Cohen's d)"
   ]
  },
  {
   "cell_type": "code",
   "execution_count": null,
   "metadata": {},
   "outputs": [],
   "source": []
  }
 ],
 "metadata": {
  "file_extension": ".py",
  "kernelspec": {
   "display_name": "'Python Interactive'",
   "language": "python",
   "name": "0198041c-a641-49c5-bd18-b8fbf787fd64"
  },
  "language_info": {
   "codemirror_mode": {
    "name": "ipython",
    "version": 3
   },
   "file_extension": ".py",
   "mimetype": "text/x-python",
   "name": "python",
   "nbconvert_exporter": "python",
   "pygments_lexer": "ipython3",
   "version": "3.7.4"
  },
  "mimetype": "text/x-python",
  "name": "python",
  "npconvert_exporter": "python",
  "pygments_lexer": "ipython3",
  "version": 3
 },
 "nbformat": 4,
 "nbformat_minor": 4
}
